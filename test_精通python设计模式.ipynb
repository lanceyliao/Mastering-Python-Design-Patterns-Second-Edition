import unittest
from unittest.mock import patch
from io import StringIO
import sys

from your_module import MyClass, MySubclass

class TestMyClass(unittest.TestCase):
    def test_new(self):
        with patch('builtins.print') as mock_print:
            obj = MyClass()
            mock_print.assert_called_with("Calling MyClass.__new__")
            self.assertIsInstance(obj, MyClass)
            mock_print.assert_called_with("Instance created:", obj)
            mock_print.assert_called_with("Calling MyClass.__init__")

class TestMySubclass(unittest.TestCase):
    def test_new(self):
        with patch('builtins.print') as mock_print:
            obj = MySubclass()
            mock_print.assert_called_with("Calling MySubclass.__new__")
            self.assertIsInstance(obj, MySubclass)
            mock_print.assert_called_with("Instance created:", obj)
            mock_print.assert_called_with("Calling MySubclass.__init__")

if __name__ == "__main__":
    unittest.main()
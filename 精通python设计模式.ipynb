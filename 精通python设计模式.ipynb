{
 "cells": [
  {
   "cell_type": "markdown",
   "id": "2c4cd02a",
   "metadata": {},
   "source": [
    "`高内聚，低耦合`\n",
    "\n",
    "`对扩展开放，对修改封闭`"
   ]
  },
  {
   "cell_type": "markdown",
   "id": "8f2153f183cca29d",
   "metadata": {},
   "source": [
    "# 1 工厂模式\n",
    "\n",
    "## 1.1 工厂方法\n",
    "\n",
    "### 1.1.1 现实生活中的例子"
   ]
  },
  {
   "cell_type": "code",
   "execution_count": 12,
   "id": "7c1435d7",
   "metadata": {},
   "outputs": [],
   "source": [
    "try:\n",
    "    import django\n",
    "except:\n",
    "    !pip install django"
   ]
  },
  {
   "cell_type": "code",
   "execution_count": 2,
   "id": "39964b5891fc797f",
   "metadata": {
    "ExecuteTime": {
     "end_time": "2024-05-24T02:29:17.773315Z",
     "start_time": "2024-05-24T02:29:17.758242Z"
    }
   },
   "outputs": [],
   "source": [
    "import abc\n",
    "\n",
    "from django import forms\n",
    "\n",
    "class PersonForm(forms.Form):\n",
    "    name = forms.CharField(max_length=100)\n",
    "    birth_date = forms.DateField(required=False)"
   ]
  },
  {
   "cell_type": "markdown",
   "id": "7d0c7f956008a829",
   "metadata": {},
   "source": [
    "### 1.1.2 用例"
   ]
  },
  {
   "cell_type": "code",
   "execution_count": 3,
   "id": "2ab2865b43871918",
   "metadata": {
    "ExecuteTime": {
     "end_time": "2024-05-23T05:48:31.793841Z",
     "start_time": "2024-05-23T05:48:31.793841Z"
    }
   },
   "outputs": [
    {
     "name": "stdout",
     "output_type": "stream",
     "text": [
      "False\n",
      "<__main__.A object at 0x785a841ed330> <__main__.A object at 0x785a864d7640>\n"
     ]
    }
   ],
   "source": [
    "class A:\n",
    "    pass\n",
    "\n",
    "a = A()\n",
    "b = A()\n",
    "print(id(a) == id(b))\n",
    "print(a, b)"
   ]
  },
  {
   "cell_type": "markdown",
   "id": "83634f4d5ec66a24",
   "metadata": {},
   "source": [
    "### 1.1.3 实现"
   ]
  },
  {
   "cell_type": "code",
   "execution_count": 4,
   "id": "fac04bf6137e9a8d",
   "metadata": {
    "ExecuteTime": {
     "end_time": "2024-05-24T02:29:35.517346Z",
     "start_time": "2024-05-24T02:29:35.483830Z"
    }
   },
   "outputs": [],
   "source": [
    "import json, xml.etree.ElementTree as etree\n",
    "\n",
    "class JSONDataExtractor:\n",
    "    def __init__(self, filepath):\n",
    "        self.data = dict()\n",
    "        with open(filepath, mode='r', encoding='utf-8') as f:\n",
    "            self.data = json.load(f)\n",
    "            \n",
    "    @property\n",
    "    def parsed_data(self):\n",
    "        return self.data\n",
    "    \n",
    "class XMLDataExtractor:\n",
    "    def __init__(self, filepath):\n",
    "        self.tree = etree.parse(filepath)\n",
    "        \n",
    "    @property\n",
    "    def parsed_data(self):\n",
    "        return self.tree\n",
    "    \n",
    "def dataextraction_factory(filepath):\n",
    "    if filepath.endswith('json'):# 核心代码 工厂：根据字符串返回不同的类\n",
    "        extractor = JSONDataExtractor\n",
    "    elif filepath.endswith('xml'):\n",
    "        extractor = XMLDataExtractor\n",
    "    else:\n",
    "        raise ValueError('Cannot extract data from {}'.format(filepath))\n",
    "    return extractor(filepath)\n",
    "\n",
    "def extract_data_from(filepath):\n",
    "    factory_obj = None\n",
    "    try:\n",
    "        factory_obj = dataextraction_factory(filepath)\n",
    "    except ValueError as e:\n",
    "        print(e)\n",
    "    return factory_obj\n",
    "\n",
    "def main():\n",
    "    sqlite_factory = extract_data_from('data/person.sq3')\n",
    "    print()\n",
    "    json_factory = extract_data_from('data/movies.json')\n",
    "    json_data = json_factory.parsed_data\n",
    "    print('Found: {} movies'.format(len(json_data)))\n",
    "    for movie in json_data:\n",
    "        print('Title: {}'.format(movie['title']))\n",
    "        year = movie['year']\n",
    "        if year:\n",
    "            print('Year: {}'.format(year))\n",
    "        director = movie['director']\n",
    "        if director:\n",
    "            print('Director: {}'.format(director))\n",
    "        genre = movie['genre']\n",
    "        if genre:\n",
    "            print('Genre: {}'.format(genre))\n",
    "        print()\n",
    "        \n",
    "    xml_factory = extract_data_from('data/person.xml')\n",
    "    xml_data = xml_factory.parsed_data\n",
    "    liars = xml_data.findall(\".//{}[{}='{}']\".format('person', 'lastName', 'Liar'))\n",
    "    print('Found: {} persons'.format(len(liars)))\n",
    "    for liar in liars:\n",
    "        firstname = liar.find('firstName').text\n",
    "        print('First name: {}'.format(firstname))\n",
    "        lastname = liar.find('lastName').text\n",
    "        print('Last name: {}'.format(lastname))\n",
    "        [print('Phone number ({})'.format(p.attrib['type']), p.text) for p in liar.find('phoneNumbers')]\n",
    "        print()"
   ]
  },
  {
   "cell_type": "markdown",
   "id": "42ec4bc110008aab",
   "metadata": {},
   "source": [
    "## 1.2 抽象工厂\n",
    "\n",
    "### 1.2.3 实现"
   ]
  },
  {
   "cell_type": "code",
   "execution_count": 5,
   "id": "200ad4decc5ede20",
   "metadata": {},
   "outputs": [],
   "source": [
    "class Frog:\n",
    "    def __init__(self, name):\n",
    "        self.name = name\n",
    "    \n",
    "    def __str__(self):\n",
    "        return self.name\n",
    "    \n",
    "    def interact_with(self, obstacle):\n",
    "        act = obstacle.action()\n",
    "        msg = f'{self} the Frog encounters {obstacle} and {act}!'\n",
    "        print(msg)\n",
    "        \n",
    "class Bug:\n",
    "    def __str__(self):\n",
    "        return 'a bug'\n",
    "    \n",
    "    def action(self):\n",
    "        return 'eats it'\n",
    "    \n",
    "class FrogWorld:\n",
    "    def __init__(self, name):\n",
    "        print(self)\n",
    "        self.player_name = name\n",
    "        \n",
    "    def __str__(self):\n",
    "        return '\\n\\n\\t------ Frog World ------'\n",
    "    \n",
    "    def make_character(self):\n",
    "        return Frog(self.player_name)\n",
    "    \n",
    "    def make_obstacle(self):\n",
    "        return Bug()"
   ]
  },
  {
   "cell_type": "code",
   "execution_count": 6,
   "id": "308a829e531d83ba",
   "metadata": {},
   "outputs": [],
   "source": [
    "class Wizard:\n",
    "    def __init__(self, name):\n",
    "        self.name = name\n",
    "        \n",
    "    def __str__(self):\n",
    "        return self.name\n",
    "    \n",
    "    def interact_with(self, obstacle):\n",
    "        act = obstacle.action()\n",
    "        msg = f'{self} the Wizard battles against {obstacle} and {act}!'\n",
    "        print(msg)\n",
    "        \n",
    "class Ork:\n",
    "    def __str__(self):\n",
    "        return 'an ork'\n",
    "    \n",
    "    def action(self):\n",
    "        return 'kills it'\n",
    "    \n",
    "class WizardWorld:\n",
    "    def __init__(self, name):\n",
    "        print(self)\n",
    "        self.player_name = name\n",
    "        \n",
    "    def __str__(self):\n",
    "        return '\\n\\n\\t------ Wizard World ------'\n",
    "    \n",
    "    def make_character(self):\n",
    "        return Wizard(self.player_name)\n",
    "    \n",
    "    def make_obstacle(self):\n",
    "        return Ork()"
   ]
  },
  {
   "cell_type": "code",
   "execution_count": 7,
   "id": "ef531f7d603b5a51",
   "metadata": {},
   "outputs": [],
   "source": [
    "class GameEnvironment:\n",
    "    def __init__(self, factory):\n",
    "        self.hero = factory.make_character()# 核心代码 抽象工厂：创建指定环境下所有工厂\n",
    "        self.obstacle = factory.make_obstacle()\n",
    "        \n",
    "    def play(self):\n",
    "        self.hero.interact_with(self.obstacle)\n",
    "        \n",
    "def validate_age(name):\n",
    "    try:\n",
    "        age = input(f'Welcome {name}. How old are you? ')\n",
    "        age = int(age)\n",
    "    except ValueError as e:\n",
    "        print(f\"Age {age} is invalid, please try again...\")\n",
    "        return (False, age)\n",
    "    return (True, age)\n",
    "\n",
    "def main():\n",
    "    name = input(\"Hello. What's your name? \")\n",
    "    valid_input = False\n",
    "    while not valid_input:\n",
    "        valid_input, age = validate_age(name)\n",
    "    game = FrogWorld if age < 18 else WizardWorld\n",
    "    environment = GameEnvironment(game(name))\n",
    "    environment.play()"
   ]
  },
  {
   "cell_type": "code",
   "execution_count": 8,
   "id": "d6671b8821d211aa",
   "metadata": {},
   "outputs": [
    {
     "name": "stdout",
     "output_type": "stream",
     "text": [
      "\n",
      "\n",
      "\t------ Frog World ------\n",
      "3 the Frog encounters a bug and eats it!\n"
     ]
    }
   ],
   "source": [
    "main()"
   ]
  },
  {
   "cell_type": "markdown",
   "id": "7d5e37ff91e316fa",
   "metadata": {},
   "source": [
    "# 2 建造者模式\n",
    "\n",
    "## 2.2 用例"
   ]
  },
  {
   "cell_type": "code",
   "execution_count": 9,
   "id": "b48e32493b6b5524",
   "metadata": {},
   "outputs": [
    {
     "name": "stdout",
     "output_type": "stream",
     "text": [
      "Model: 1.4GHz Mac mini\n",
      "Memory: 4GB\n",
      "Hard Disk: 500GB\n",
      "Graphics Card: Intel HD Graphics 5000\n"
     ]
    }
   ],
   "source": [
    "# 工厂模式\n",
    "MINI14 = '1.4GHz Mac mini'\n",
    "\n",
    "class AppleFactory:\n",
    "    class MacMini14:\n",
    "        def __init__(self):\n",
    "            self.memory = 4 # GB\n",
    "            self.hdd = 500 # GB\n",
    "            self.gpu = 'Intel HD Graphics 5000'\n",
    "            \n",
    "        def __str__(self):\n",
    "            info = (f'Model: {MINI14}',\n",
    "                    f'Memory: {self.memory}GB',\n",
    "                    f'Hard Disk: {self.hdd}GB',\n",
    "                    f'Graphics Card: {self.gpu}')\n",
    "            return '\\n'.join(info)\n",
    "        \n",
    "    def build_computer(self, model):\n",
    "        if model == MINI14:\n",
    "            return self.MacMini14()\n",
    "        else:\n",
    "            msg = f'I dont know how to build {model}'\n",
    "            print(msg)\n",
    "            \n",
    "afac = AppleFactory()\n",
    "mac_mini = afac.build_computer(MINI14)\n",
    "print(mac_mini)"
   ]
  },
  {
   "cell_type": "code",
   "execution_count": 10,
   "id": "9db92f32abcede96",
   "metadata": {},
   "outputs": [
    {
     "name": "stdout",
     "output_type": "stream",
     "text": [
      "step 0\n",
      "step 1\n",
      "Memory: 8GB\n",
      "Hard Disk: 500GB\n",
      "Graphics Card: GeForce GTX 650 Ti\n"
     ]
    }
   ],
   "source": [
    "# 建造者模式\n",
    "class Computer:\n",
    "    def __init__(self, serial_number):\n",
    "        self.serial = serial_number\n",
    "        self.memory = None # GB\n",
    "        self.hdd = None # GB\n",
    "        self.gpu = None\n",
    "        \n",
    "    def __str__(self):\n",
    "        info = (f'Memory: {self.memory}GB',\n",
    "                f'Hard Disk: {self.hdd}GB',\n",
    "                f'Graphics Card: {self.gpu}')\n",
    "        return '\\n'.join(info)\n",
    "    \n",
    "class ComputerBuilder:\n",
    "    def __init__(self):\n",
    "        self.computer = Computer('AG23385193')\n",
    "        \n",
    "    def configure_memory(self, amount):\n",
    "        self.computer.memory = amount\n",
    "        \n",
    "    def configure_hdd(self, amount):\n",
    "        self.computer.hdd = amount\n",
    "        \n",
    "    def configure_gpu(self, gpu_model):\n",
    "        self.computer.gpu = gpu_model\n",
    "        \n",
    "class HardwareEngineer:\n",
    "    def __init__(self):\n",
    "        self.builder = None\n",
    "        \n",
    "    def construct_computer(self, memory, hdd, gpu):# 核心代码 建造者：按照步骤构建对象（Python几乎用不到，因为Python有可选参数：调用函数时，可以不传入的参数，这些参数有默认值）\n",
    "        self.builder = ComputerBuilder()\n",
    "        steps = (self.builder.configure_memory(memory),\n",
    "                self.builder.configure_hdd(hdd),\n",
    "                self.builder.configure_gpu(gpu), print('step 0'))\n",
    "        print('step 1')\n",
    "        [step for step in steps]\n",
    "        \n",
    "    @property\n",
    "    def computer(self):\n",
    "        return self.builder.computer\n",
    "    \n",
    "def main():\n",
    "    engineer = HardwareEngineer()\n",
    "    engineer.construct_computer(hdd=500, memory=8, gpu='GeForce GTX 650 Ti')\n",
    "    computer = engineer.computer\n",
    "    print(computer)\n",
    "    \n",
    "main()"
   ]
  },
  {
   "cell_type": "markdown",
   "id": "ae441e5a4dbb762",
   "metadata": {},
   "source": [
    "## 2.3 实现"
   ]
  },
  {
   "cell_type": "code",
   "execution_count": 11,
   "id": "3f4fff29f30d7c35",
   "metadata": {
    "ExecuteTime": {
     "end_time": "2024-05-24T02:30:20.093515Z",
     "start_time": "2024-05-24T02:30:01.113410Z"
    }
   },
   "outputs": [
    {
     "name": "stdout",
     "output_type": "stream",
     "text": [
      "\n",
      "preparing the thick dough of your creamy bacon...\n",
      "done with the thick dough\n",
      "adding the crème fraîche sauce to your creamy bacon\n",
      "done with the crème fraîche sauce\n",
      "adding the topping (mozzarella, bacon, ham, mushrooms, red onion, oregano) to your creamy bacon\n",
      "done with the topping (mozzarella, bacon, ham, mushrooms, red onion, oregano)\n",
      "baking your creamy bacon for 7 seconds\n",
      "your creamy bacon is ready\n",
      "\n",
      "Enjoy your creamy bacon!\n"
     ]
    }
   ],
   "source": [
    "from enum import Enum\n",
    "import time\n",
    "PizzaProgress = Enum('PizzaProgress', 'queued preparation baking ready')# 空格分隔的字符串，每个字符串都是一个PizzaProgress成员\n",
    "PizzaDough = Enum('PizzaDough', 'thin thick')\n",
    "PizzaSauce = Enum('PizzaSauce', 'tomato creme_fraiche')\n",
    "PizzaTopping = Enum('PizzaTopping', 'mozzarella double_mozzarella bacon ham mushrooms red_onion oregano')\n",
    "STEP_DELAY = 3 # in seconds for the sake of the example\n",
    "\n",
    "class Pizza:\n",
    "    def __init__(self, name):\n",
    "        self.name = name\n",
    "        self.dough = None\n",
    "        self.sauce = None\n",
    "        self.topping = []\n",
    "        \n",
    "    def __str__(self):\n",
    "        return self.name\n",
    "    \n",
    "    def prepare_dough(self, dough):\n",
    "        self.dough = dough\n",
    "        print(f'preparing the {self.dough.name} dough of your {self}...')\n",
    "        time.sleep(STEP_DELAY)\n",
    "        print(f'done with the {self.dough.name} dough')\n",
    "        \n",
    "class MargaritaBuilder:\n",
    "    def __init__(self):\n",
    "        self.pizza = Pizza('margarita')\n",
    "        self.progress = PizzaProgress.queued\n",
    "        self.baking_time = 5 # in seconds for the sake of the example\n",
    "        \n",
    "    def prepare_dough(self):\n",
    "        self.progress = PizzaProgress.preparation\n",
    "        self.pizza.prepare_dough(PizzaDough.thin)\n",
    "        \n",
    "    def add_sauce(self):\n",
    "        print('adding the tomato sauce to your margarita...')\n",
    "        self.pizza.sauce = PizzaSauce.tomato\n",
    "        time.sleep(STEP_DELAY)\n",
    "        print('done with the tomato sauce')\n",
    "        \n",
    "    def add_topping(self):\n",
    "        topping_desc = 'double mozzarella, oregano'\n",
    "        topping_items = (PizzaTopping.double_mozzarella, PizzaTopping.oregano)\n",
    "        print(f'adding the topping ({topping_desc}) to your margarita')\n",
    "        self.pizza.topping.append([t for t in topping_items])\n",
    "        time.sleep(STEP_DELAY)\n",
    "        print(f'done with the topping ({topping_desc})')\n",
    "        \n",
    "    def bake(self):\n",
    "        self.progress = PizzaProgress.baking\n",
    "        print(f'baking your margarita for {self.baking_time} seconds')\n",
    "        time.sleep(self.baking_time)\n",
    "        self.progress = PizzaProgress.ready\n",
    "        print('your margarita is ready')\n",
    "        \n",
    "class CreamyBaconBuilder:\n",
    "    def __init__(self):\n",
    "        self.pizza = Pizza('creamy bacon')\n",
    "        self.progress = PizzaProgress.queued\n",
    "        self.baking_time = 7 # in seconds for the sake of the example\n",
    "        \n",
    "    def prepare_dough(self):\n",
    "        self.progress = PizzaProgress.preparation\n",
    "        self.pizza.prepare_dough(PizzaDough.thick)\n",
    "        \n",
    "    def add_sauce(self):\n",
    "        print('adding the crème fraîche sauce to your creamy bacon')\n",
    "        self.pizza.sauce = PizzaSauce.creme_fraiche\n",
    "        time.sleep(STEP_DELAY)\n",
    "        print('done with the crème fraîche sauce')\n",
    "        \n",
    "    def add_topping(self):\n",
    "        topping_desc = 'mozzarella, bacon, ham, mushrooms, red onion, oregano'\n",
    "        topping_items = (PizzaTopping.mozzarella, PizzaTopping.bacon, PizzaTopping.ham, PizzaTopping.mushrooms, PizzaTopping.red_onion, PizzaTopping.oregano)\n",
    "        print(f'adding the topping ({topping_desc}) to your creamy bacon')\n",
    "        self.pizza.topping.append([t for t in topping_items])\n",
    "        time.sleep(STEP_DELAY)\n",
    "        print(f'done with the topping ({topping_desc})')\n",
    "        \n",
    "    def bake(self):\n",
    "        self.progress = PizzaProgress.baking\n",
    "        print(f'baking your creamy bacon for {self.baking_time} seconds')\n",
    "        time.sleep(self.baking_time)\n",
    "        self.progress = PizzaProgress.ready\n",
    "        print('your creamy bacon is ready')\n",
    "        \n",
    "class Waiter:\n",
    "    def __init__(self):\n",
    "        self.builder = None\n",
    "        \n",
    "    def construct_pizza(self, builder):\n",
    "        self.builder = builder\n",
    "        steps = (builder.prepare_dough, builder.add_sauce, builder.add_topping, builder.bake)\n",
    "        [step() for step in steps]\n",
    "        \n",
    "    @property\n",
    "    def pizza(self):\n",
    "        return self.builder.pizza\n",
    "    \n",
    "def validate_style(builders):\n",
    "    try:\n",
    "        input_msg = 'What pizza would you like, [m]argarita or [c]reamy bacon? '\n",
    "        pizza_style = input(input_msg)\n",
    "        builder = builders[pizza_style]()\n",
    "        valid_input = True\n",
    "    except KeyError as e:\n",
    "        error_msg = 'Sorry, only margarita (key m) and creamy bacon (key c) are available'\n",
    "        print(error_msg)\n",
    "        return (False, None)\n",
    "    return (True, builder)\n",
    "\n",
    "def main():\n",
    "    builders = dict(m=MargaritaBuilder, c=CreamyBaconBuilder)\n",
    "    valid_input = False\n",
    "    while not valid_input:\n",
    "        valid_input, builder = validate_style(builders)\n",
    "    print()\n",
    "    waiter = Waiter()\n",
    "    waiter.construct_pizza(builder)\n",
    "    pizza = waiter.pizza\n",
    "    print()\n",
    "    print(f'Enjoy your {pizza}!')\n",
    "    \n",
    "main()"
   ]
  },
  {
   "cell_type": "code",
   "execution_count": 12,
   "id": "8469aa5936c9919e",
   "metadata": {
    "ExecuteTime": {
     "end_time": "2024-05-23T05:48:31.822940Z",
     "start_time": "2024-05-23T05:48:31.810289Z"
    }
   },
   "outputs": [
    {
     "name": "stdout",
     "output_type": "stream",
     "text": [
      "Garlic: yes\n",
      "Extra cheese: yes\n"
     ]
    }
   ],
   "source": [
    "# 流畅建造者\n",
    "class Pizza:\n",
    "    def __init__(self, builder):\n",
    "        self.garlic = builder.garlic\n",
    "        self.extra_cheese = builder.extra_cheese\n",
    "    def __str__(self):\n",
    "        garlic = 'yes' if self.garlic else 'no'\n",
    "        cheese = 'yes' if self.extra_cheese else 'no'\n",
    "        info = (f'Garlic: {garlic}',\n",
    "                f'Extra cheese: {cheese}')\n",
    "        return '\\n'.join(info)\n",
    "    \n",
    "class PizzaBuilder:\n",
    "    def __init__(self):\n",
    "        self.extra_cheese = False\n",
    "        self.garlic = False\n",
    "        \n",
    "    def add_garlic(self):\n",
    "        self.garlic = True\n",
    "        return self\n",
    "    \n",
    "    def add_extra_cheese(self):\n",
    "        self.extra_cheese = True\n",
    "        return self\n",
    "    \n",
    "    def build(self):\n",
    "        return Pizza(self)\n",
    "    \n",
    "pizza = PizzaBuilder().add_garlic().add_extra_cheese().build()\n",
    "print(pizza)"
   ]
  },
  {
   "cell_type": "markdown",
   "id": "dd1376278edaa22e",
   "metadata": {},
   "source": [
    "# 3 其他创建型模式\n",
    "\n",
    "## 3.1 原型模式"
   ]
  },
  {
   "cell_type": "code",
   "execution_count": 13,
   "id": "899f4ae6b982dbc8",
   "metadata": {
    "ExecuteTime": {
     "end_time": "2024-05-24T02:30:20.124182Z",
     "start_time": "2024-05-24T02:30:20.111014Z"
    }
   },
   "outputs": [
    {
     "name": "stdout",
     "output_type": "stream",
     "text": [
      "Website \"ContentGardening\"\n",
      "author: Kamon Ayeva\n",
      "category: Blog\n",
      "description: Automation and data-driven apps\n",
      "domain: contentgardening.com\n",
      "keywords: ('python', 'data', 'apis', 'automation')\n",
      "\n",
      "Website \"ContentGardeningPlayground\"\n",
      "author: Kamon Ayeva\n",
      "category: Membership site\n",
      "creation_date: 2018-08-01\n",
      "description: Experimentation for techniques featured on the blog\n",
      "domain: play.contentgardening.com\n",
      "keywords: ('python', 'data', 'apis', 'automation')\n",
      "\n",
      "ID site1 : 132330195805728 != ID site2 : 132330195811344\n"
     ]
    }
   ],
   "source": [
    "import copy\n",
    "\n",
    "class Website:\n",
    "    def __init__(self, name, domain, description, author, **kwargs):\n",
    "        '''Examples of optional attributes (kwargs): category, creation_date, technologies, keywords'''\n",
    "        self.name = name\n",
    "        self.domain = domain\n",
    "        self.description = description\n",
    "        self.author = author\n",
    "        \n",
    "        for key in kwargs:\n",
    "            setattr(self, key, kwargs[key])\n",
    "            \n",
    "    def __str__(self):\n",
    "        summary = [f'Website \"{self.name}\"\\n', ]\n",
    "        infos = vars(self).items()\n",
    "        ordered_infos = sorted(infos)\n",
    "        for attr, val in ordered_infos:\n",
    "            if attr == 'name':\n",
    "                continue\n",
    "            summary.append(f'{attr}: {val}\\n')\n",
    "        return ''.join(summary)\n",
    "    \n",
    "class Prototype:\n",
    "    def __init__(self):\n",
    "        self.objects = dict()\n",
    "        \n",
    "    def register_object(self, identifier, obj):\n",
    "        self.objects[identifier] = obj\n",
    "        \n",
    "    def unregister_object(self, identifier):\n",
    "        del self.objects[identifier]\n",
    "        \n",
    "    def clone(self, identifier, **attrs):\n",
    "        found = self.objects.get(identifier)\n",
    "        if not found:\n",
    "            raise ValueError(f'Incorrect object identifier: {identifier}')\n",
    "        obj = copy.deepcopy(found)# 核心代码 原型：复制已被证明有效的内容\n",
    "        for key in attrs:\n",
    "            setattr(obj, key, attrs[key])\n",
    "        return obj\n",
    "    \n",
    "def main():\n",
    "    keywords = ('python', 'data', 'apis', 'automation')\n",
    "    site1 = Website('ContentGardening', \n",
    "                    domain='contentgardening.com', \n",
    "                    description='Automation and data-driven apps', \n",
    "                    author='Kamon Ayeva', \n",
    "                    category='Blog',\n",
    "                    keywords=keywords)\n",
    "    \n",
    "    prototype = Prototype()\n",
    "    identifier = 'ka-cg-1'\n",
    "    prototype.register_object(identifier, site1)\n",
    "    site2 = prototype.clone(identifier, \n",
    "                            name='ContentGardeningPlayground', \n",
    "                            domain='play.contentgardening.com', \n",
    "                            description='Experimentation for techniques featured on the blog',\n",
    "                            category='Membership site',\n",
    "                            creation_date='2018-08-01')\n",
    "    \n",
    "    for site in (site1, site2):\n",
    "        print(site)\n",
    "    print(f'ID site1 : {id(site1)} != ID site2 : {id(site2)}')\n",
    "    \n",
    "main()"
   ]
  },
  {
   "cell_type": "markdown",
   "id": "f1fc1819b0848ce8",
   "metadata": {},
   "source": [
    "## 3.2 单例模式\n",
    "\n",
    "### 3.2.3 实现"
   ]
  },
  {
   "cell_type": "code",
   "execution_count": 14,
   "id": "e0a0c2e73c5588ee",
   "metadata": {
    "ExecuteTime": {
     "end_time": "2024-05-24T02:30:20.139745Z",
     "start_time": "2024-05-24T02:30:20.125182Z"
    }
   },
   "outputs": [
    {
     "name": "stdout",
     "output_type": "stream",
     "text": [
      "False\n",
      "False\n"
     ]
    }
   ],
   "source": [
    "# 非单例\n",
    "import urllib.parse\n",
    "import urllib.request\n",
    "\n",
    "class URLFetcher:\n",
    "    def __init__(self):\n",
    "        self.urls = []\n",
    "        \n",
    "    def fetch(self, url):\n",
    "        req = urllib.request.Request(url)\n",
    "        with urllib.request.urlopen(req) as response:\n",
    "            if response.getcode() == 200:\n",
    "                the_page = response.read()\n",
    "                print(the_page)\n",
    "                urls = self.urls\n",
    "                urls.append(url)\n",
    "                self.urls = urls\n",
    "                \n",
    "def main():\n",
    "    f1 = URLFetcher()\n",
    "    f2 = URLFetcher()\n",
    "    print(f1 is f2)\n",
    "    print(URLFetcher() is URLFetcher())\n",
    "    \n",
    "main()"
   ]
  },
  {
   "cell_type": "code",
   "execution_count": 15,
   "id": "933efbc9b5212a0c",
   "metadata": {
    "ExecuteTime": {
     "end_time": "2024-05-23T05:48:41.508987Z",
     "start_time": "2024-05-23T05:48:32.149613Z"
    }
   },
   "outputs": [
    {
     "name": "stdout",
     "output_type": "stream",
     "text": [
      "before URLFetcher()\n",
      "URLFetcher __init__\n",
      "SingletonType __call__\n",
      "after URLFetcher()\n",
      "True\n"
     ]
    },
    {
     "name": "stdout",
     "output_type": "stream",
     "text": [
      "<urlopen error [Errno -3] Temporary failure in name resolution>\n",
      "HTTP Error 404: Not Found\n",
      "-------\n",
      "Done URLs: http://google.com, http://python.org\n"
     ]
    }
   ],
   "source": [
    "# 单例\n",
    "class SingletonType(type):\n",
    "    _instances = {} # 原理：类的可变属性是类属性，所有实例共享，且惰性\n",
    "    def __call__(cls, *args, **kwargs):\n",
    "        if cls not in cls._instances:\n",
    "            # print(f'super(SingletonType, cls): {super(SingletonType, cls)}')\n",
    "            # cls._instances[cls] = super(SingletonType, cls).__call__(*args, **kwargs)\n",
    "            # print(f'super(): {super()}')\n",
    "            cls._instances[cls] = super().__call__(*args, **kwargs)# 核心代码 单例：只有第一次__call__创建实例\n",
    "            print(f'SingletonType __call__')\n",
    "        return cls._instances[cls]\n",
    "    \n",
    "class URLFetcher(metaclass=SingletonType):\n",
    "    def __init__(self):\n",
    "        self.urls = []\n",
    "        print(f'URLFetcher __init__')\n",
    "        \n",
    "    def fetch(self, url):\n",
    "        req = urllib.request.Request(url)\n",
    "        with urllib.request.urlopen(req) as response:\n",
    "            if response.getcode() == 200:\n",
    "                the_page = response.read()\n",
    "                # print(the_page)\n",
    "                urls = self.urls\n",
    "                urls.append(url)\n",
    "                self.urls = urls\n",
    "                \n",
    "    def dump_url_registry(self):\n",
    "        return ', '.join(self.urls)\n",
    "    \n",
    "\n",
    "def main():\n",
    "    MY_URLS = ['http://www.voidspace.org.uk',\n",
    "                'http://google.com',\n",
    "                'http://python.org',\n",
    "                'https://www.python.org/error',\n",
    "                ]\n",
    "    print('before URLFetcher()')\n",
    "    fetcher = URLFetcher()\n",
    "    print('after URLFetcher()')\n",
    "    \n",
    "    print(URLFetcher() is URLFetcher())\n",
    "    \n",
    "    for url in MY_URLS:\n",
    "        try:\n",
    "            fetcher.fetch(url)\n",
    "        except Exception as e:\n",
    "            print(e)\n",
    "    print('-'*7)\n",
    "    done_urls = fetcher.dump_url_registry()\n",
    "    print(f'Done URLs: {done_urls}')\n",
    "    \n",
    "main()"
   ]
  },
  {
   "cell_type": "code",
   "execution_count": 16,
   "id": "7263cc8b17c2df83",
   "metadata": {
    "ExecuteTime": {
     "end_time": "2024-05-23T05:48:41.523985Z",
     "start_time": "2024-05-23T05:48:41.511055Z"
    }
   },
   "outputs": [
    {
     "name": "stdout",
     "output_type": "stream",
     "text": [
      "Instance object: <__main__.MyClass object at 0x785a7c0812d0>\n",
      "Argument x: 10\n",
      "10\n"
     ]
    }
   ],
   "source": [
    "# self和cls\n",
    "# self\n",
    "class MyClass:\n",
    "    def __init__(a, x):# 通常为self\n",
    "        a.x = x\n",
    "\n",
    "    def my_method(a):\n",
    "        print(\"Instance object:\", a)\n",
    "        print(\"Argument x:\", a.x)\n",
    "\n",
    "obj = MyClass(10)\n",
    "obj.my_method()  # 输出: 10\n",
    "\n",
    "# cls\n",
    "class MyClass:\n",
    "    class_variable = 10\n",
    "\n",
    "    @classmethod\n",
    "    def my_class_method(b):# 通常为cls\n",
    "        print(b.class_variable)\n",
    "\n",
    "MyClass.my_class_method()  # 输出: 10"
   ]
  },
  {
   "cell_type": "code",
   "execution_count": 65,
   "id": "97f3f0df",
   "metadata": {},
   "outputs": [
    {
     "name": "stdout",
     "output_type": "stream",
     "text": [
      "id(x): 132329661240384, id(y): 132330221847056\n"
     ]
    }
   ],
   "source": [
    "class A:\n",
    "    x, y = [], 10\n",
    "    print(f'id(x): {id(x)}, id(y): {id(y)}')\n",
    "\n",
    "o = A()\n",
    "o2 = A()"
   ]
  },
  {
   "cell_type": "code",
   "execution_count": 54,
   "id": "edf10f46",
   "metadata": {},
   "outputs": [
    {
     "name": "stdout",
     "output_type": "stream",
     "text": [
      "id(x): 132329666903680, id(y): 132330221847056\n",
      "\n",
      "self: <__main__.D object at 0x785a66c9fe80>, \n",
      "obj: <__main__.A object at 0x785a66c9d5d0>, \n",
      "owner: <class '__main__.A'>\n",
      "0\n",
      "self: <__main__.D object at 0x785a66c9fe80>, \n",
      "obj: <__main__.A object at 0x785a66c9d5d0>, \n",
      "owner: <class '__main__.A'>\n",
      "1\n",
      "self: <__main__.D object at 0x785a66c9fe80>, \n",
      "obj: <__main__.A object at 0x785a66a7c310>, \n",
      "owner: <class '__main__.A'>\n",
      "1\n",
      "20\n",
      "10\n",
      "id(o.y): 132330221847376\n",
      "id(o2.y): 132330221847056\n"
     ]
    }
   ],
   "source": [
    "class D:\n",
    "    def __init__(self):\n",
    "        self.val = 0\n",
    "\n",
    "    def __get__(self, obj, owner=None):\n",
    "        # print(self, obj, owner)\n",
    "        print(f'self: {self}, \\nobj: {obj}, \\nowner: {owner}')\n",
    "        return self.val\n",
    "\n",
    "    def __set__(self, obj, value):\n",
    "        self.val = value\n",
    "\n",
    "class A:\n",
    "    x = D()\n",
    "    y = 10\n",
    "    print(f'id(x): {id(x)}, id(y): {id(y)}')\n",
    "\n",
    "o = A()\n",
    "print()\n",
    "o2 = A()\n",
    "print(o.x)\n",
    "o.x = 1\n",
    "print(o.x)\n",
    "print(o2.x)\n",
    "\n",
    "o.y = 20\n",
    "print(o.y)\n",
    "print(o2.y)\n",
    "print(f'id(o.y): {id(o.y)}')\n",
    "print(f'id(o2.y): {id(o2.y)}')"
   ]
  },
  {
   "cell_type": "markdown",
   "id": "740b53fd79fe7282",
   "metadata": {},
   "source": [
    "# 4 适配器模式\n",
    "\n",
    "改名\n",
    "\n",
    "## 4.3 实现"
   ]
  },
  {
   "cell_type": "code",
   "execution_count": 17,
   "id": "bd787c2efae0cdf7",
   "metadata": {
    "ExecuteTime": {
     "end_time": "2024-05-23T05:48:41.539779Z",
     "start_time": "2024-05-23T05:48:41.525987Z"
    }
   },
   "outputs": [
    {
     "name": "stdout",
     "output_type": "stream",
     "text": [
      "the club Jazz Cafe hires an artist to perform for the people\n",
      "the musician Roy Ayers plays music\n",
      "the dancer Shane Sparks does a dance performance\n"
     ]
    }
   ],
   "source": [
    "class Club:\n",
    "    def __init__(self, name):\n",
    "        self.name = name\n",
    "        \n",
    "    def __str__(self):\n",
    "        return f'the club {self.name}'\n",
    "    \n",
    "    def organize_event(self):\n",
    "        return 'hires an artist to perform for the people'\n",
    "    \n",
    "class Musician:\n",
    "    def __init__(self, name):\n",
    "        self.name = name\n",
    "        \n",
    "    def __str__(self):\n",
    "        return f'the musician {self.name}'\n",
    "    \n",
    "    def play(self):\n",
    "        return 'plays music'\n",
    "    \n",
    "class Dancer:\n",
    "    def __init__(self, name):\n",
    "        self.name = name\n",
    "        \n",
    "    def __str__(self):\n",
    "        return f'the dancer {self.name}'\n",
    "    \n",
    "    def dance(self):\n",
    "        return 'does a dance performance'\n",
    "    \n",
    "class Adapter:# 适配器，打包时传入对象和适配方法\n",
    "    def __init__(self, obj, adapted_methods):\n",
    "        self.obj = obj\n",
    "        self.__dict__.update(adapted_methods)\n",
    "        \n",
    "    def __str__(self):\n",
    "        return str(self.obj)\n",
    "    \n",
    "def main():\n",
    "    objects = [Club('Jazz Cafe'), Musician('Roy Ayers'), Dancer('Shane Sparks')]\n",
    "    for obj in objects:\n",
    "        if hasattr(obj, 'play') or hasattr(obj, 'dance'):\n",
    "            if hasattr(obj, 'play'):# 核心代码 适配器：以选定方法更新统一接口\n",
    "                adapted_methods = dict(organize_event=obj.play)\n",
    "            elif hasattr(obj, 'dance'):\n",
    "                adapted_methods = dict(organize_event=obj.dance)\n",
    "            obj = Adapter(obj, adapted_methods)\n",
    "        print(f'{obj} {obj.organize_event()}')\n",
    "        \n",
    "main()"
   ]
  },
  {
   "cell_type": "markdown",
   "id": "639739dcbd834529",
   "metadata": {},
   "source": [
    "# 5 装饰器模式\n",
    "\n",
    "添加/装饰 非特定标的\n",
    "\n",
    "常用装饰器：权限管理、缓存、计时、单例模式、日志\n",
    "\n",
    "## 5.3 实现"
   ]
  },
  {
   "cell_type": "code",
   "execution_count": 18,
   "id": "initial_id",
   "metadata": {
    "ExecuteTime": {
     "end_time": "2024-05-23T05:48:41.555292Z",
     "start_time": "2024-05-23T05:48:41.541295Z"
    },
    "collapsed": true
   },
   "outputs": [],
   "source": [
    "def number_sum(n):\n",
    "    '''返回前n个数字的和'''\n",
    "    assert (n >= 0), 'n must be >= 0'\n",
    "    if n == 0:\n",
    "        return 0\n",
    "    else:\n",
    "        return n + number_sum(n-1)"
   ]
  },
  {
   "cell_type": "code",
   "execution_count": 19,
   "id": "563615fcf8c59bd3",
   "metadata": {
    "ExecuteTime": {
     "end_time": "2024-05-23T05:48:44.210775Z",
     "start_time": "2024-05-23T05:48:41.556296Z"
    }
   },
   "outputs": [
    {
     "name": "stdout",
     "output_type": "stream",
     "text": [
      "3.67 µs ± 324 ns per loop (mean ± std. dev. of 7 runs, 100,000 loops each)\n"
     ]
    }
   ],
   "source": [
    "%%timeit\n",
    "number_sum(30)"
   ]
  },
  {
   "cell_type": "code",
   "execution_count": 20,
   "id": "ecc225a78bbbb202",
   "metadata": {
    "ExecuteTime": {
     "end_time": "2024-05-23T05:48:44.226780Z",
     "start_time": "2024-05-23T05:48:44.212775Z"
    }
   },
   "outputs": [],
   "source": [
    "sum_cache = {0: 0}\n",
    "def number_sum(n):\n",
    "    '''返回前n个数字的和'''\n",
    "    assert (n >= 0), 'n must be >= 0'\n",
    "    if n in sum_cache:\n",
    "        return sum_cache[n]\n",
    "    res = n + number_sum(n-1)\n",
    "    # 将值加入缓存\n",
    "    sum_cache[n] = res\n",
    "    return res"
   ]
  },
  {
   "cell_type": "code",
   "execution_count": 21,
   "id": "6f6ab28cbb6e44a6",
   "metadata": {
    "ExecuteTime": {
     "end_time": "2024-05-23T05:48:52.593879Z",
     "start_time": "2024-05-23T05:48:44.227784Z"
    }
   },
   "outputs": [
    {
     "name": "stdout",
     "output_type": "stream",
     "text": [
      "117 ns ± 7.5 ns per loop (mean ± std. dev. of 7 runs, 10,000,000 loops each)\n"
     ]
    }
   ],
   "source": [
    "%%timeit\n",
    "number_sum(300)"
   ]
  },
  {
   "cell_type": "code",
   "execution_count": 22,
   "id": "174d744a24bd969",
   "metadata": {
    "ExecuteTime": {
     "end_time": "2024-05-24T02:30:20.155748Z",
     "start_time": "2024-05-24T02:30:20.140748Z"
    }
   },
   "outputs": [],
   "source": [
    "cache_fib = {0:0, 1:1}\n",
    "def fibonacci(n):\n",
    "    '''返回斐波那契数列的第n个数'''\n",
    "    assert (n >= 0), 'n must be >= 0'\n",
    "    if n in cache_fib:\n",
    "        return cache_fib[n]\n",
    "    res = fibonacci(n-1) + fibonacci(n-2)\n",
    "    cache_fib[n] = res\n",
    "    return res\n",
    "\n",
    "import functools\n",
    "def memoize(fn):\n",
    "    '''缓存装饰器'''\n",
    "    cache = {}\n",
    "    @functools.wraps(fn)# 核心代码 装饰器：返回添加功能后的函数\n",
    "    def memoizer(*args):\n",
    "        if args not in cache:\n",
    "            cache[args] = fn(*args)\n",
    "        return cache[args]\n",
    "    return memoizer\n",
    "\n",
    "@memoize\n",
    "def number_sum(n):\n",
    "    '''返回前n个数字的和'''\n",
    "    assert (n >= 0), 'n must be >= 0'\n",
    "    if n == 0:\n",
    "        return 0\n",
    "    else:\n",
    "        return n + number_sum(n-1)\n",
    "    \n",
    "@memoize\n",
    "def fibonacci(n):\n",
    "    '''返回斐波那契数列的第n个数'''\n",
    "    assert (n >= 0), 'n must be >= 0'\n",
    "    if n in (0, 1):\n",
    "        return n\n",
    "    return fibonacci(n-1) + fibonacci(n-2)"
   ]
  },
  {
   "cell_type": "code",
   "execution_count": 23,
   "id": "6f12e776bcc412c4",
   "metadata": {
    "ExecuteTime": {
     "end_time": "2024-05-23T05:49:03.320209Z",
     "start_time": "2024-05-23T05:48:52.610136Z"
    }
   },
   "outputs": [
    {
     "name": "stdout",
     "output_type": "stream",
     "text": [
      "169 ns ± 3.37 ns per loop (mean ± std. dev. of 7 runs, 10,000,000 loops each)\n"
     ]
    }
   ],
   "source": [
    "%%timeit\n",
    "number_sum(300)"
   ]
  },
  {
   "cell_type": "code",
   "execution_count": 24,
   "id": "926e73e19af4284",
   "metadata": {
    "ExecuteTime": {
     "end_time": "2024-05-23T05:49:13.199119Z",
     "start_time": "2024-05-23T05:49:03.322244Z"
    }
   },
   "outputs": [
    {
     "name": "stdout",
     "output_type": "stream",
     "text": [
      "165 ns ± 3.83 ns per loop (mean ± std. dev. of 7 runs, 10,000,000 loops each)\n"
     ]
    }
   ],
   "source": [
    "%%timeit\n",
    "fibonacci(30)"
   ]
  },
  {
   "cell_type": "code",
   "execution_count": 25,
   "id": "7c62fb2fe1e31908",
   "metadata": {
    "ExecuteTime": {
     "end_time": "2024-05-24T02:30:20.171179Z",
     "start_time": "2024-05-24T02:30:20.158751Z"
    }
   },
   "outputs": [],
   "source": [
    "# 使用lru_cache\n",
    "import functools\n",
    "@functools.lru_cache(maxsize=None)\n",
    "def number_sum(n):\n",
    "    '''返回前n个数字的和'''\n",
    "    assert (n >= 0), 'n must be >= 0'\n",
    "    if n == 0:\n",
    "        return 0\n",
    "    else:\n",
    "        return n + number_sum(n-1)\n",
    "    \n",
    "@functools.lru_cache(maxsize=None)\n",
    "def fibonacci(n):\n",
    "    '''返回斐波那契数列的第n个数'''\n",
    "    assert (n >= 0), 'n must be >= 0'\n",
    "    if n in (0, 1):\n",
    "        return n\n",
    "    return fibonacci(n-1) + fibonacci(n-2)"
   ]
  },
  {
   "cell_type": "code",
   "execution_count": 26,
   "id": "23e2002864e85dcd",
   "metadata": {
    "ExecuteTime": {
     "end_time": "2024-05-23T05:49:17.682112Z",
     "start_time": "2024-05-23T05:49:13.216461Z"
    }
   },
   "outputs": [
    {
     "name": "stdout",
     "output_type": "stream",
     "text": [
      "70.3 ns ± 6.99 ns per loop (mean ± std. dev. of 7 runs, 10,000,000 loops each)\n"
     ]
    }
   ],
   "source": [
    "%%timeit\n",
    "number_sum(300)"
   ]
  },
  {
   "cell_type": "code",
   "execution_count": 27,
   "id": "d22c77af0cc88443",
   "metadata": {
    "ExecuteTime": {
     "end_time": "2024-05-23T05:49:21.287576Z",
     "start_time": "2024-05-23T05:49:17.684131Z"
    }
   },
   "outputs": [
    {
     "name": "stdout",
     "output_type": "stream",
     "text": [
      "70 ns ± 2.88 ns per loop (mean ± std. dev. of 7 runs, 10,000,000 loops each)\n"
     ]
    }
   ],
   "source": [
    "%%timeit\n",
    "fibonacci(30)"
   ]
  },
  {
   "cell_type": "markdown",
   "id": "c6936f88e75b01bd",
   "metadata": {},
   "source": [
    "# 6 桥接模式\n",
    "\n",
    "脱裤子放屁的无需适配的适配器\n",
    "\n",
    "## 6.3 实现"
   ]
  },
  {
   "cell_type": "code",
   "execution_count": 28,
   "id": "4c26f8fe2ac8a20",
   "metadata": {
    "ExecuteTime": {
     "end_time": "2024-05-24T02:30:39.765106Z",
     "start_time": "2024-05-24T02:30:39.335943Z"
    }
   },
   "outputs": [
    {
     "name": "stdout",
     "output_type": "stream",
     "text": [
      "b'\\x1f\\x8b\\x08\\x00\\x00\\x00\\x00\\x00\\x00\\x03\\xed}\\xf9r\\x1bG\\x92\\xf7\\xff\\x8e\\x98w(C\\xf1\\x89\\xd4X\\r\\x10\\xe0)\\x8a\\x84G\\x92)\\x99\\x1e\\x1d\\x1cS\\xb2v>\\xafC\\xd1h4\\x80&\\x81n\\xa8\\x0f\\x92\\xf0\\xcc<\\xd2>\\xc5\\xbe\\xd8\\xfe2\\xab\\xaa\\xbb\\xfa\\x04 \\xd2\\xb2\\x1d\\xa1\\x9d\\xb5\\x084\\xaa\\xeb\\xc8\\xca\\xbb2\\xb3\\x8e\\xbe\\x1e\\x06N\\xbc\\x98\\xbbb\\x12\\xcf\\xa6'\n",
      "====================\n",
      "Lorem ipsum dolor sit amet, consectetur adipiscing elit. Proin in nibh in enim euismod mattis placer\n"
     ]
    }
   ],
   "source": [
    "class ResourceContent:\n",
    "    \"\"\"\n",
    "    定义抽象接口\n",
    "    维护一个实现者的对象引用\n",
    "    \"\"\"\n",
    "    def __init__(self, imp):\n",
    "        self._imp = imp\n",
    "        \n",
    "    def show_content(self, path):\n",
    "        return self._imp.fetch(path)\n",
    "    \n",
    "class ResourceContentFetcher(metaclass=abc.ABCMeta):# metaclass=abc.ABCMeta表示ResourceContentFetcher是一个抽象类，不能实例化。桥接模式，从抽象类派生出实现类，方法名相同\n",
    "    \"\"\"\n",
    "    为获取内容的实现类定义接口\n",
    "    \"\"\"\n",
    "    @abc.abstractmethod# abstractmethod：抽象方法，子类须实现；classmethod：类方法(cls)，访问类属性；staticmethod：静态方法()，不访问类与实例属性\n",
    "    def fetch(path):\n",
    "        pass\n",
    "    \n",
    "class URLFetcher(ResourceContentFetcher):\n",
    "    \"\"\"\n",
    "    实现实现者接口并定义其具体实现\n",
    "    \"\"\"\n",
    "    def fetch(self, path):\n",
    "        # path是一个url\n",
    "        req = urllib.request.Request(path)\n",
    "        with urllib.request.urlopen(req) as response:\n",
    "            if response.getcode() == 200:\n",
    "                the_page = response.read()\n",
    "                print(the_page[:100])\n",
    "                \n",
    "class LocalFileFetcher(ResourceContentFetcher):\n",
    "    \"\"\"\n",
    "    实现实现者接口并定义其具体实现\n",
    "    \"\"\"\n",
    "    def fetch(self, path):\n",
    "        # path是一个文本文件的文件路径\n",
    "        with open(path) as f:\n",
    "            print(f.read()[:100])\n",
    "            \n",
    "def main():\n",
    "    url_fetcher = URLFetcher()\n",
    "    iface = ResourceContent(url_fetcher)\n",
    "    iface.show_content('http://python.org')\n",
    "    \n",
    "    print('='*20)\n",
    "    localfs_fetcher = LocalFileFetcher()\n",
    "    iface = ResourceContent(localfs_fetcher)\n",
    "    iface.show_content('./chapter06/file.txt')\n",
    "    \n",
    "main()"
   ]
  },
  {
   "cell_type": "markdown",
   "id": "1b051b8321824ac1",
   "metadata": {},
   "source": [
    "# 7 外观模式\n",
    "\n",
    "松散耦合\n",
    "\n",
    "## 7.3 实现"
   ]
  },
  {
   "cell_type": "code",
   "execution_count": 29,
   "id": "14ea760a",
   "metadata": {},
   "outputs": [
    {
     "name": "stdout",
     "output_type": "stream",
     "text": [
      "booting the FileServer\n",
      "booting the ProcessServer\n",
      "trying to create the file \"hello\" for user \"foo\" with permissions -rw-r-r\n",
      "trying to create the process \"ls /tmp\" for user \"bar\"\n"
     ]
    }
   ],
   "source": [
    "from enum import Enum\n",
    "from abc import ABCMeta, abstractmethod\n",
    "\n",
    "State = Enum('State', 'new running sleeping restart zombie')\n",
    "class Server(metaclass=ABCMeta):\n",
    "    @abstractmethod\n",
    "    def __init__(self):\n",
    "        pass\n",
    "    \n",
    "    def __str__(self):\n",
    "        return self.name\n",
    "    \n",
    "    @abstractmethod\n",
    "    def boot(self):\n",
    "        pass\n",
    "    \n",
    "    @abstractmethod\n",
    "    def kill(self):\n",
    "        pass\n",
    "\n",
    "class FileServer(Server):\n",
    "    def __init__(self):\n",
    "        '''初始化文件服务器所需的操作'''\n",
    "        self.name = 'FileServer'\n",
    "        self.state = State.new\n",
    "        \n",
    "    def boot(self):\n",
    "        '''启动文件服务器所需的操作'''\n",
    "        print(f'booting the {self}')\n",
    "        self.state = State.running\n",
    "        \n",
    "    def kill(self):\n",
    "        '''终止文件服务器所需的操作'''\n",
    "        print(f'killing the {self}')\n",
    "        self.state = State.restart if self.state == State.running else State.zombie\n",
    "\n",
    "    def create_file(self, user, name, permissions):\n",
    "        '''检查权限并创建文件'''\n",
    "        print(f'trying to create the file \"{name}\" for user \"{user}\" with permissions {permissions}')\n",
    "\n",
    "class ProcessServer(Server):\n",
    "    def __init__(self):\n",
    "        '''初始化进程服务器所需的操作'''\n",
    "        self.name = 'ProcessServer'\n",
    "        self.state = State.new\n",
    "        \n",
    "    def boot(self):\n",
    "        '''启动进程服务器所需的操作'''\n",
    "        print(f'booting the {self}')\n",
    "        self.state = State.running\n",
    "        \n",
    "    def kill(self):\n",
    "        '''终止进程服务器所需的操作'''\n",
    "        print(f'killing the {self}')\n",
    "        self.state = State.restart if self.state == State.running else State.zombie\n",
    "\n",
    "    def create_process(self, user, name):\n",
    "        '''检查用户权限、生成PID等'''\n",
    "        print(f'trying to create the process \"{name}\" for user \"{user}\"')\n",
    "\n",
    "class OperatingSystem:\n",
    "    '''外观'''\n",
    "    def __init__(self):\n",
    "        self.fs = FileServer()\n",
    "        self.ps = ProcessServer()\n",
    "        \n",
    "    def start(self):\n",
    "        [server.boot() for server in (self.fs, self.ps)]\n",
    "        \n",
    "    def create_file(self, user, name, permissions):\n",
    "        self.fs.create_file(user, name, permissions)\n",
    "        \n",
    "    def create_process(self, user, name):\n",
    "        self.ps.create_process(user, name)\n",
    "\n",
    "def main():\n",
    "    os = OperatingSystem()\n",
    "    os.start()\n",
    "    os.create_file('foo', 'hello', '-rw-r-r')\n",
    "    os.create_process('bar', 'ls /tmp')\n",
    "\n",
    "main()"
   ]
  },
  {
   "cell_type": "markdown",
   "id": "a5aea97a",
   "metadata": {},
   "source": [
    "# 8 其他结构型模式\n",
    "\n",
    "## 8.1 享元模式\n",
    "\n",
    "单例模式集合"
   ]
  },
  {
   "cell_type": "code",
   "execution_count": 30,
   "id": "6a2996e5",
   "metadata": {},
   "outputs": [
    {
     "name": "stdout",
     "output_type": "stream",
     "text": [
      "render a car of type CarType.subcompact and color blue at (17, 27)\n",
      "render a car of type CarType.subcompact and color yellow at (27, 51)\n",
      "render a car of type CarType.subcompact and color gray at (14, 69)\n",
      "render a car of type CarType.subcompact and color beige at (70, 42)\n",
      "render a car of type CarType.subcompact and color brown at (44, 37)\n",
      "render a car of type CarType.subcompact and color yellow at (21, 96)\n",
      "render a car of type CarType.subcompact and color black at (4, 30)\n",
      "render a car of type CarType.subcompact and color green at (72, 49)\n",
      "render a car of type CarType.subcompact and color yellow at (77, 3)\n",
      "render a car of type CarType.subcompact and color yellow at (36, 70)\n",
      "render a car of type CarType.compact and color blue at (36, 46)\n",
      "render a car of type CarType.compact and color green at (2, 88)\n",
      "render a car of type CarType.compact and color black at (83, 3)\n",
      "render a car of type CarType.suv and color red at (95, 49)\n",
      "render a car of type CarType.suv and color silver at (29, 12)\n",
      "render a car of type CarType.suv and color black at (84, 99)\n",
      "render a car of type CarType.suv and color red at (52, 12)\n",
      "render a car of type CarType.suv and color yellow at (90, 69)\n",
      "cars rendered: 18\n",
      "cars actually created: 3\n",
      "132330195811296 == 132330195811296? True\n",
      "132330195811296 == 132330195804960? False\n"
     ]
    }
   ],
   "source": [
    "import random\n",
    "\n",
    "\n",
    "CarType = Enum('CarType', 'subcompact compact suv')\n",
    "\n",
    "class Car:\n",
    "    pool = dict()\n",
    "    \n",
    "    def __new__(cls, car_type, *args, **kwargs):\n",
    "        obj = cls.pool.get(car_type, None)\n",
    "        if not obj:\n",
    "            obj = object.__new__(cls)# 核心代码 享元：只有第一次创建实例\n",
    "            cls.pool[car_type] = obj\n",
    "            obj.car_type = car_type\n",
    "        return obj\n",
    "    \n",
    "    def render(self, color, x, y):\n",
    "        type = self.car_type\n",
    "        msg = f'render a car of type {type} and color {color} at ({x}, {y})'\n",
    "        print(msg)\n",
    "\n",
    "def main():\n",
    "    rnd = random.Random()\n",
    "    colors = 'white black silver gray red blue brown beige yellow green'.split()\n",
    "    min_point, max_point = 0, 100\n",
    "    car_counter = 0\n",
    "\n",
    "    for _ in range(10):\n",
    "        c1 = Car(CarType.subcompact)\n",
    "        c1.render(random.choice(colors), \n",
    "                  rnd.randint(min_point, max_point), \n",
    "                  rnd.randint(min_point, max_point))\n",
    "        car_counter += 1\n",
    "\n",
    "    for _ in range(3):\n",
    "        c2 = Car(CarType.compact)\n",
    "        c2.render(random.choice(colors), \n",
    "                  rnd.randint(min_point, max_point), \n",
    "                  rnd.randint(min_point, max_point))\n",
    "        car_counter += 1\n",
    "\n",
    "    for _ in range(5):\n",
    "        c3 = Car(CarType.suv)\n",
    "        c3.render(random.choice(colors), \n",
    "                  rnd.randint(min_point, max_point), \n",
    "                  rnd.randint(min_point, max_point))\n",
    "        car_counter += 1\n",
    "\n",
    "    print(f'cars rendered: {car_counter}')\n",
    "    print(f'cars actually created: {len(Car.pool)}')\n",
    "\n",
    "    c4 = Car(CarType.subcompact)\n",
    "    c5 = Car(CarType.subcompact)\n",
    "    c6 = Car(CarType.suv)\n",
    "    print(f'{id(c4)} == {id(c5)}? {id(c4) == id(c5)}')\n",
    "    print(f'{id(c5)} == {id(c6)}? {id(c5) == id(c6)}')\n",
    "\n",
    "main()"
   ]
  },
  {
   "cell_type": "markdown",
   "id": "e9396c12",
   "metadata": {},
   "source": [
    "## 8.2 MVC模式"
   ]
  },
  {
   "cell_type": "markdown",
   "id": "16d0d0e6",
   "metadata": {},
   "source": [
    "Model View Controller\n",
    "\n",
    "模型 视图 控制器\n",
    "\n",
    "模型可以访问数据并管理应用程序的状态。\n",
    "\n",
    "视图是模型的表示。视图不需要是图形化的，文本输出也被认为是非常好的视图。\n",
    "\n",
    "控制器是模型和视图之间的桥梁。\n",
    "\n",
    "正确使用 MVC 可以保证我们最终得到一个易于维护和扩展的应用程序。"
   ]
  },
  {
   "cell_type": "code",
   "execution_count": 2,
   "id": "85b0cded",
   "metadata": {},
   "outputs": [
    {
     "name": "stdout",
     "output_type": "stream",
     "text": [
      "And the quote is: \"As I said before, I never repeat myself.\"\n",
      "Error: Incorrect index ''\n",
      "And the quote is: \"Black holes really suck...\"\n"
     ]
    },
    {
     "ename": "KeyboardInterrupt",
     "evalue": "Interrupted by user",
     "output_type": "error",
     "traceback": [
      "\u001b[0;31m---------------------------------------------------------------------------\u001b[0m",
      "\u001b[0;31mKeyboardInterrupt\u001b[0m                         Traceback (most recent call last)",
      "Cell \u001b[0;32mIn[2], line 49\u001b[0m\n\u001b[1;32m     46\u001b[0m     \u001b[38;5;28;01mwhile\u001b[39;00m \u001b[38;5;28;01mTrue\u001b[39;00m:\n\u001b[1;32m     47\u001b[0m         controller\u001b[38;5;241m.\u001b[39mrun()\n\u001b[0;32m---> 49\u001b[0m \u001b[43mmain\u001b[49m\u001b[43m(\u001b[49m\u001b[43m)\u001b[49m\n",
      "Cell \u001b[0;32mIn[2], line 47\u001b[0m, in \u001b[0;36mmain\u001b[0;34m()\u001b[0m\n\u001b[1;32m     45\u001b[0m controller \u001b[38;5;241m=\u001b[39m QuoteTerminalController()\n\u001b[1;32m     46\u001b[0m \u001b[38;5;28;01mwhile\u001b[39;00m \u001b[38;5;28;01mTrue\u001b[39;00m:\n\u001b[0;32m---> 47\u001b[0m     \u001b[43mcontroller\u001b[49m\u001b[38;5;241;43m.\u001b[39;49m\u001b[43mrun\u001b[49m\u001b[43m(\u001b[49m\u001b[43m)\u001b[49m\n",
      "Cell \u001b[0;32mIn[2], line 36\u001b[0m, in \u001b[0;36mQuoteTerminalController.run\u001b[0;34m(self)\u001b[0m\n\u001b[1;32m     34\u001b[0m \u001b[38;5;28;01mwhile\u001b[39;00m \u001b[38;5;129;01mnot\u001b[39;00m valid_input:\n\u001b[1;32m     35\u001b[0m     \u001b[38;5;28;01mtry\u001b[39;00m:\n\u001b[0;32m---> 36\u001b[0m         n \u001b[38;5;241m=\u001b[39m \u001b[38;5;28;43mself\u001b[39;49m\u001b[38;5;241;43m.\u001b[39;49m\u001b[43mview\u001b[49m\u001b[38;5;241;43m.\u001b[39;49m\u001b[43mselect_quote\u001b[49m\u001b[43m(\u001b[49m\u001b[43m)\u001b[49m\n\u001b[1;32m     37\u001b[0m         n \u001b[38;5;241m=\u001b[39m \u001b[38;5;28mint\u001b[39m(n)\n\u001b[1;32m     38\u001b[0m         valid_input \u001b[38;5;241m=\u001b[39m \u001b[38;5;28;01mTrue\u001b[39;00m\n",
      "Cell \u001b[0;32mIn[2], line 25\u001b[0m, in \u001b[0;36mQuoteTerminalView.select_quote\u001b[0;34m(self)\u001b[0m\n\u001b[1;32m     24\u001b[0m \u001b[38;5;28;01mdef\u001b[39;00m \u001b[38;5;21mselect_quote\u001b[39m(\u001b[38;5;28mself\u001b[39m):\n\u001b[0;32m---> 25\u001b[0m     \u001b[38;5;28;01mreturn\u001b[39;00m \u001b[38;5;28;43minput\u001b[39;49m\u001b[43m(\u001b[49m\u001b[38;5;124;43m'\u001b[39;49m\u001b[38;5;124;43mWhich quote number would you like to see? \u001b[39;49m\u001b[38;5;124;43m'\u001b[39;49m\u001b[43m)\u001b[49m\n",
      "File \u001b[0;32m~/.local/lib/python3.10/site-packages/ipykernel/kernelbase.py:1282\u001b[0m, in \u001b[0;36mKernel.raw_input\u001b[0;34m(self, prompt)\u001b[0m\n\u001b[1;32m   1280\u001b[0m     msg \u001b[38;5;241m=\u001b[39m \u001b[38;5;124m\"\u001b[39m\u001b[38;5;124mraw_input was called, but this frontend does not support input requests.\u001b[39m\u001b[38;5;124m\"\u001b[39m\n\u001b[1;32m   1281\u001b[0m     \u001b[38;5;28;01mraise\u001b[39;00m StdinNotImplementedError(msg)\n\u001b[0;32m-> 1282\u001b[0m \u001b[38;5;28;01mreturn\u001b[39;00m \u001b[38;5;28;43mself\u001b[39;49m\u001b[38;5;241;43m.\u001b[39;49m\u001b[43m_input_request\u001b[49m\u001b[43m(\u001b[49m\n\u001b[1;32m   1283\u001b[0m \u001b[43m    \u001b[49m\u001b[38;5;28;43mstr\u001b[39;49m\u001b[43m(\u001b[49m\u001b[43mprompt\u001b[49m\u001b[43m)\u001b[49m\u001b[43m,\u001b[49m\n\u001b[1;32m   1284\u001b[0m \u001b[43m    \u001b[49m\u001b[38;5;28;43mself\u001b[39;49m\u001b[38;5;241;43m.\u001b[39;49m\u001b[43m_parent_ident\u001b[49m\u001b[43m[\u001b[49m\u001b[38;5;124;43m\"\u001b[39;49m\u001b[38;5;124;43mshell\u001b[39;49m\u001b[38;5;124;43m\"\u001b[39;49m\u001b[43m]\u001b[49m\u001b[43m,\u001b[49m\n\u001b[1;32m   1285\u001b[0m \u001b[43m    \u001b[49m\u001b[38;5;28;43mself\u001b[39;49m\u001b[38;5;241;43m.\u001b[39;49m\u001b[43mget_parent\u001b[49m\u001b[43m(\u001b[49m\u001b[38;5;124;43m\"\u001b[39;49m\u001b[38;5;124;43mshell\u001b[39;49m\u001b[38;5;124;43m\"\u001b[39;49m\u001b[43m)\u001b[49m\u001b[43m,\u001b[49m\n\u001b[1;32m   1286\u001b[0m \u001b[43m    \u001b[49m\u001b[43mpassword\u001b[49m\u001b[38;5;241;43m=\u001b[39;49m\u001b[38;5;28;43;01mFalse\u001b[39;49;00m\u001b[43m,\u001b[49m\n\u001b[1;32m   1287\u001b[0m \u001b[43m\u001b[49m\u001b[43m)\u001b[49m\n",
      "File \u001b[0;32m~/.local/lib/python3.10/site-packages/ipykernel/kernelbase.py:1325\u001b[0m, in \u001b[0;36mKernel._input_request\u001b[0;34m(self, prompt, ident, parent, password)\u001b[0m\n\u001b[1;32m   1322\u001b[0m \u001b[38;5;28;01mexcept\u001b[39;00m \u001b[38;5;167;01mKeyboardInterrupt\u001b[39;00m:\n\u001b[1;32m   1323\u001b[0m     \u001b[38;5;66;03m# re-raise KeyboardInterrupt, to truncate traceback\u001b[39;00m\n\u001b[1;32m   1324\u001b[0m     msg \u001b[38;5;241m=\u001b[39m \u001b[38;5;124m\"\u001b[39m\u001b[38;5;124mInterrupted by user\u001b[39m\u001b[38;5;124m\"\u001b[39m\n\u001b[0;32m-> 1325\u001b[0m     \u001b[38;5;28;01mraise\u001b[39;00m \u001b[38;5;167;01mKeyboardInterrupt\u001b[39;00m(msg) \u001b[38;5;28;01mfrom\u001b[39;00m \u001b[38;5;28;01mNone\u001b[39;00m\n\u001b[1;32m   1326\u001b[0m \u001b[38;5;28;01mexcept\u001b[39;00m \u001b[38;5;167;01mException\u001b[39;00m:\n\u001b[1;32m   1327\u001b[0m     \u001b[38;5;28mself\u001b[39m\u001b[38;5;241m.\u001b[39mlog\u001b[38;5;241m.\u001b[39mwarning(\u001b[38;5;124m\"\u001b[39m\u001b[38;5;124mInvalid Message:\u001b[39m\u001b[38;5;124m\"\u001b[39m, exc_info\u001b[38;5;241m=\u001b[39m\u001b[38;5;28;01mTrue\u001b[39;00m)\n",
      "\u001b[0;31mKeyboardInterrupt\u001b[0m: Interrupted by user"
     ]
    }
   ],
   "source": [
    "quotes = (\n",
    "    'A man is not complete until he is married. Then he is finished.',\n",
    "    'As I said before, I never repeat myself.',\n",
    "    'Behind a successful man is an exhausted woman.',\n",
    "    'Black holes really suck...',\n",
    "    'Facts are stubborn things.'\n",
    ")\n",
    "\n",
    "class QuoteModel:\n",
    "    def get_quote(self, n):\n",
    "        try:\n",
    "            value = quotes[n]\n",
    "        except IndexError as e:\n",
    "            value = 'Not found'\n",
    "        return value\n",
    "\n",
    "class QuoteTerminalView:\n",
    "    def show(self, quote):\n",
    "        print(f'And the quote is: \"{quote}\"')\n",
    "\n",
    "    def error(self, msg):\n",
    "        print(f'Error: {msg}')\n",
    "\n",
    "    def select_quote(self):\n",
    "        return input('Which quote number would you like to see? ')\n",
    "\n",
    "class QuoteTerminalController:\n",
    "    def __init__(self):\n",
    "        self.model = QuoteModel()\n",
    "        self.view = QuoteTerminalView()\n",
    "\n",
    "    def run(self):\n",
    "        valid_input = False\n",
    "        while not valid_input:\n",
    "            try:\n",
    "                n = self.view.select_quote()\n",
    "                n = int(n)\n",
    "                valid_input = True\n",
    "            except ValueError as e:\n",
    "                self.view.error(f\"Incorrect index '{n}'\")\n",
    "        quote = self.model.get_quote(n)\n",
    "        self.view.show(quote)\n",
    "\n",
    "def main():\n",
    "    controller = QuoteTerminalController()\n",
    "    while True:\n",
    "        controller.run()# 核心代码 MVC：分离数据、视图、控制器\n",
    "\n",
    "main()"
   ]
  },
  {
   "cell_type": "markdown",
   "id": "672ec6ac",
   "metadata": {},
   "source": [
    "## 8.3 代理模式\n",
    "\n",
    "增加控制功能的装饰器，控制特定标的\n",
    "\n",
    "常用代理：劫持、过滤、安全检查（智能/引用代理）、（远程代理）、惰性/延迟创建（虚拟代理）"
   ]
  },
  {
   "cell_type": "code",
   "execution_count": 70,
   "id": "2df0072b",
   "metadata": {},
   "outputs": [
    {
     "name": "stdout",
     "output_type": "stream",
     "text": [
      "foo\n",
      "bar\n",
      "initializing self._resource which is: None\n",
      "value: (0, 1, 2, 3, 4)\n",
      "(0, 1, 2, 3, 4)\n",
      "(0, 1, 2, 3, 4)\n"
     ]
    }
   ],
   "source": [
    "class LazyProperty:\n",
    "    def __init__(self, method):\n",
    "        self.method = method\n",
    "        self.method_name = method.__name__\n",
    "        # print(f'function overriden: {self.fget})\n",
    "        # print(f'function name: {self.func_name}')\n",
    "\n",
    "    def __get__(self, obj, cls):\n",
    "        if not obj:\n",
    "            return None\n",
    "        value = self.method(obj)\n",
    "        print(f'value: {value}')\n",
    "        setattr(obj, self.method_name, value)\n",
    "        return value\n",
    "\n",
    "class Test:\n",
    "    def __init__(self):\n",
    "        self.x = 'foo'\n",
    "        self.y = 'bar'\n",
    "        self._resource = None\n",
    "\n",
    "    @LazyProperty\n",
    "    def resource(self):\n",
    "        print(f'initializing self._resource which is: {self._resource}')\n",
    "        self._resource = tuple(range(5)) # 开销大\n",
    "        return self._resource\n",
    "\n",
    "def main():\n",
    "    t = Test()\n",
    "    print(t.x)\n",
    "    print(t.y)\n",
    "    # 更多工作......\n",
    "    print(t.resource)\n",
    "    print(t.resource)\n",
    "\n",
    "main()"
   ]
  },
  {
   "cell_type": "markdown",
   "id": "71a8ba94",
   "metadata": {},
   "source": [
    "### 8.3.3 实现"
   ]
  },
  {
   "cell_type": "code",
   "execution_count": 4,
   "id": "37d696fc",
   "metadata": {},
   "outputs": [
    {
     "name": "stdout",
     "output_type": "stream",
     "text": [
      "1. read list |==| 2. add user |==| 3. quit\n",
      "Added user 0xdeadbeef\n",
      "1. read list |==| 2. add user |==| 3. quit\n",
      "There are 5 users: nick, tom, ben, mike, 0xdeadbeef\n",
      "1. read list |==| 2. add user |==| 3. quit\n",
      "1. read list |==| 2. add user |==| 3. quit\n",
      "1. read list |==| 2. add user |==| 3. quit\n",
      "1. read list |==| 2. add user |==| 3. quit\n",
      "1. read list |==| 2. add user |==| 3. quit\n"
     ]
    },
    {
     "ename": "",
     "evalue": "",
     "output_type": "error",
     "traceback": [
      "\u001b[1;31mThe Kernel crashed while executing code in the current cell or a previous cell. \n",
      "\u001b[1;31mPlease review the code in the cell(s) to identify a possible cause of the failure. \n",
      "\u001b[1;31mClick <a href='https://aka.ms/vscodeJupyterKernelCrash'>here</a> for more info. \n",
      "\u001b[1;31mView Jupyter <a href='command:jupyter.viewOutput'>log</a> for further details."
     ]
    }
   ],
   "source": [
    "class SensitiveInfo:\n",
    "    def __init__(self):\n",
    "        self.users = ['nick', 'tom', 'ben', 'mike']\n",
    "\n",
    "    def read(self):\n",
    "        nb = len(self.users)\n",
    "        print(f'There are {nb} users: {\", \".join(self.users)}')\n",
    "\n",
    "    def add(self, user):\n",
    "        self.users.append(user)\n",
    "        print(f'Added user {user}')\n",
    "\n",
    "class Info:\n",
    "    '''SensitiveInfo的保护代理'''\n",
    "    def __init__(self):\n",
    "        self.protected = SensitiveInfo()\n",
    "        self.secret = '0xdeadbeef'\n",
    "\n",
    "    def read(self):\n",
    "        self.protected.read()\n",
    "\n",
    "    def add(self, user):\n",
    "        sec = input('What is the secret? ')\n",
    "        self.protected.add(user) if sec == self.secret else print(\"That's wrong!\")# 核心代码 代理：控制对敏感信息的访问\n",
    "\n",
    "def main():\n",
    "    info = Info()\n",
    "    while True:\n",
    "        print('1. read list |==| 2. add user |==| 3. quit')\n",
    "        key = input('choose option: ')\n",
    "        if key == '1':\n",
    "            info.read()\n",
    "        elif key == '2':\n",
    "            name = input('choose username: ')\n",
    "            info.add(name)\n",
    "        elif key == '3':\n",
    "            exit()\n",
    "\n",
    "main()"
   ]
  },
  {
   "cell_type": "markdown",
   "id": "91b2aedb",
   "metadata": {},
   "source": [
    "# 9 职责链模式"
   ]
  },
  {
   "cell_type": "code",
   "execution_count": 4,
   "id": "32d02a47",
   "metadata": {},
   "outputs": [
    {
     "name": "stdout",
     "output_type": "stream",
     "text": [
      "\n",
      "Sending event -down- to MainWindow\n",
      "MainWindow Default: down\n",
      "Sending event -down- to SendDialog\n",
      "MainWindow Default: down\n",
      "Sending event -down- to MsgText\n",
      "MsgText: down\n",
      "\n",
      "Sending event -paint- to MainWindow\n",
      "3\n",
      "MainWindow Default: paint\n",
      "Sending event -paint- to SendDialog\n",
      "1\n",
      "SendDialog: paint\n",
      "Sending event -paint- to MsgText\n",
      "2\n",
      "self.parent:<__main__.SendDialog object at 0x7af594e6f2b0>\n",
      "1\n",
      "SendDialog: paint\n",
      "\n",
      "Sending event -unhandled- to MainWindow\n",
      "MainWindow Default: unhandled\n",
      "Sending event -unhandled- to SendDialog\n",
      "MainWindow Default: unhandled\n",
      "Sending event -unhandled- to MsgText\n",
      "MainWindow Default: unhandled\n",
      "\n",
      "Sending event -close- to MainWindow\n",
      "MainWindow: close\n",
      "Sending event -close- to SendDialog\n",
      "MainWindow: close\n",
      "Sending event -close- to MsgText\n",
      "MainWindow: close\n"
     ]
    }
   ],
   "source": [
    "class Event:\n",
    "    def __init__(self, name):\n",
    "        self.name = name\n",
    "\n",
    "    def __str__(self) -> str:\n",
    "        return self.name\n",
    "\n",
    "class Widget:\n",
    "    def __init__(self, parent=None):\n",
    "        self.parent = parent\n",
    "\n",
    "    def handle(self, event):\n",
    "        handler = f'handle_{event}'\n",
    "        if hasattr(self, handler):\n",
    "            method = getattr(self, handler)\n",
    "            method(event)\n",
    "        elif self.parent is not None:# 核心代码 责任链：传递事件给父类。与抽象工厂区别：责任链是按事件类型传递事件，抽象工厂是按固定顺序创建对象\n",
    "            self.parent.handle(event)\n",
    "        elif hasattr(self, 'handle_default'):\n",
    "            self.handle_default(event)\n",
    "\n",
    "class MainWindow(Widget):\n",
    "    def handle_close(self, event):\n",
    "        # 关闭事件\n",
    "        print(f'MainWindow: {event}')\n",
    "\n",
    "    def handle_default(self, event):\n",
    "        # 默认事件\n",
    "        print(f'MainWindow Default: {event}')\n",
    "\n",
    "class SendDialog(Widget):\n",
    "    def handle_paint(self, event):\n",
    "        # 绘图事件\n",
    "        print(f'SendDialog: {event}')\n",
    "\n",
    "class MsgText(Widget):\n",
    "    def handle_down(self, event):\n",
    "        # 键盘事件\n",
    "        print(f'MsgText: {event}')\n",
    "\n",
    "def main():\n",
    "    mw = MainWindow()\n",
    "    sd = SendDialog(mw)\n",
    "    msg = MsgText(sd)# 注意msg对象的父对象是SendDialog\n",
    "\n",
    "    for e in ('down', 'paint', 'unhandled', 'close'):\n",
    "        evt = Event(e)\n",
    "        print(f'\\nSending event -{evt}- to MainWindow')\n",
    "        mw.handle(evt)\n",
    "        print(f'Sending event -{evt}- to SendDialog')\n",
    "        sd.handle(evt)\n",
    "        print(f'Sending event -{evt}- to MsgText')\n",
    "        msg.handle(evt)\n",
    "\n",
    "main()"
   ]
  },
  {
   "cell_type": "markdown",
   "id": "ef4f407e",
   "metadata": {},
   "source": [
    "# 10 命令模式\n",
    "\n",
    "## 10.2 用例\n",
    "\n",
    "- GUI 按钮和菜单项：\n",
    "  - PyQt 使用命令模式来实现按钮和菜单项上的操作。\n",
    "- 其他操作：\n",
    "  - 除了撤销之外，还可以使用命令来实现任何操作。例如，剪切、复制、粘贴、恢复和大写文本。\n",
    "- 事务行为和日志：\n",
    "  - 事务行为和日志对于保存所有更改操作的持久日志非常重要。\n",
    "    - 操作系统使用它们从系统崩溃中恢复\n",
    "    - 关系数据库使用它们来实现事务\n",
    "    - 文件系统使用它们实现快照\n",
    "    - 安装程序（向导）使用它们恢复已取消的安装。\n",
    "- 宏： \n",
    "  - 这里，我们所说的宏是指可以随时按需记录和执行的一系列操作。流行的编辑器（如Emacs 和 Vim）都支持宏。"
   ]
  },
  {
   "cell_type": "code",
   "execution_count": 1,
   "id": "1dd9dcf2",
   "metadata": {},
   "outputs": [
    {
     "name": "stdout",
     "output_type": "stream",
     "text": [
      "creating file file1\n",
      "reading file file1\n",
      "hello world\n",
      "renaming file1 to file2\n"
     ]
    },
    {
     "name": "stdout",
     "output_type": "stream",
     "text": [
      "renaming file2 to file1\n",
      "Error: 'ReadFile' object has no attribute 'undo'\n",
      "deleting file file1\n"
     ]
    }
   ],
   "source": [
    "import os\n",
    "verbose = True\n",
    "\n",
    "class RenameFile:\n",
    "    def __init__(self, src, dest):\n",
    "        self.src = src\n",
    "        self.dest = dest\n",
    "\n",
    "    def execute(self):\n",
    "        if verbose:\n",
    "            print(f'renaming {self.src} to {self.dest}')\n",
    "        os.rename(self.src, self.dest)\n",
    "\n",
    "    def undo(self):\n",
    "        if verbose:\n",
    "            print(f'renaming {self.dest} to {self.src}')\n",
    "        os.rename(self.dest, self.src)\n",
    "\n",
    "def delete_file(path):\n",
    "    if verbose:\n",
    "        print(f'deleting file {path}')\n",
    "    os.remove(path)\n",
    "\n",
    "class CreateFile:\n",
    "    def __init__(self, path, txt='hello world\\n'):\n",
    "        self.path = path\n",
    "        self.txt = txt\n",
    "\n",
    "    def execute(self):\n",
    "        if verbose:\n",
    "            print(f'creating file {self.path}')\n",
    "        with open(self.path, mode='w', encoding='utf-8') as out_file:\n",
    "            out_file.write(self.txt)\n",
    "\n",
    "    def undo(self):\n",
    "        delete_file(self.path)\n",
    "\n",
    "class ReadFile:\n",
    "    def __init__(self, path):\n",
    "        self.path = path\n",
    "\n",
    "    def execute(self):\n",
    "        if verbose:\n",
    "            print(f'reading file {self.path}')\n",
    "        with open(self.path, mode='r', encoding='utf-8') as in_file:\n",
    "            print(in_file.read(), end='')\n",
    "\n",
    "def main():\n",
    "    orig_name, new_name = 'file1', 'file2'\n",
    "\n",
    "    commands = (\n",
    "        CreateFile(orig_name),# 核心代码 命令：将操作过程封装成对象\n",
    "        ReadFile(orig_name),\n",
    "        RenameFile(orig_name, new_name)\n",
    "    )\n",
    "\n",
    "    [c.execute() for c in commands]\n",
    "\n",
    "    answer = input('reverse the executed commands? [y/n] ')\n",
    "    if answer not in 'yY':\n",
    "        print(f'the result is {new_name}')\n",
    "        exit()\n",
    "    else:\n",
    "        for c in reversed(commands):\n",
    "            try:\n",
    "                c.undo()\n",
    "            except AttributeError as e:\n",
    "                print('Error:', str(e))\n",
    "\n",
    "main()"
   ]
  },
  {
   "cell_type": "markdown",
   "id": "5876b6df",
   "metadata": {},
   "source": [
    "# 11 观察者模式\n",
    "\n",
    "单个对象（发布者，也称为**主题**或**可观察对象**）和一个或多个对象（订阅者，也称为**观察者**）之间的发布订阅关系。\n",
    "对于 MVC，发布者是模型，订阅者是视图。\n",
    "观察者背后的思想与关注点分离原则背后的思想是相同的，即增加发布者和订阅者之间的解耦，并使在运行时添加/删除订阅者变得容易。\n",
    "\n",
    "## 11.2 用例\n",
    "\n",
    "新闻流、事件驱动系统\n",
    "\n",
    "## 11.3 实现"
   ]
  },
  {
   "cell_type": "code",
   "execution_count": 10,
   "id": "01e1e014",
   "metadata": {},
   "outputs": [
    {
     "name": "stdout",
     "output_type": "stream",
     "text": [
      "DefaultFormatter: \"test1\" has data = 0\n",
      "\n",
      "HexFormatter: test1 has now hex data = 0x3\n",
      "DefaultFormatter: \"test1\" has data = 3\n",
      "\n",
      "HexFormatter: test1 has now hex data = 0x15\n",
      "BinaryFormatter: test1 has now bin data = 0b10101\n",
      "DefaultFormatter: \"test1\" has data = 21\n",
      "\n",
      "BinaryFormatter: test1 has now bin data = 0b101000\n",
      "DefaultFormatter: \"test1\" has data = 40\n",
      "\n",
      "failed to remove: <__main__.HexFormatter object at 0x73611c3ee0e0>\n",
      "failed to add: <__main__.BinaryFormatter object at 0x73611c3ee020>\n",
      "\n",
      "Error: invalid literal for int() with base 10: 'hello'\n",
      "DefaultFormatter: \"test1\" has data = 40\n",
      "\n",
      "BinaryFormatter: test1 has now bin data = 0b1111\n",
      "DefaultFormatter: \"test1\" has data = 15\n"
     ]
    }
   ],
   "source": [
    "class Publisher:\n",
    "    def __init__(self):\n",
    "        self.observers = []\n",
    "\n",
    "    def add(self, observer):\n",
    "        if observer not in self.observers:\n",
    "            self.observers.append(observer)\n",
    "        else:\n",
    "            print(f'failed to add: {observer}')\n",
    "\n",
    "    def remove(self, observer):\n",
    "        try:\n",
    "            self.observers.remove(observer)\n",
    "        except ValueError as e:\n",
    "            print(f'failed to remove: {observer}')\n",
    "\n",
    "    def notify(self):\n",
    "        [o.notify(self) for o in self.observers]\n",
    "\n",
    "class DefaultFormatter(Publisher):\n",
    "    def __init__(self, name):\n",
    "        super().__init__()\n",
    "        self.name = name\n",
    "        self._data = 0\n",
    "\n",
    "    def __str__(self):\n",
    "        return f'{type(self).__name__}: \"{self.name}\" has data = {self._data}'\n",
    "\n",
    "    @property\n",
    "    def data(self):\n",
    "        return self._data\n",
    "\n",
    "    @data.setter\n",
    "    def data(self, new_value):\n",
    "        try:\n",
    "            self._data = int(new_value)\n",
    "        except ValueError as e:\n",
    "            print('Error:', str(e))\n",
    "        else:\n",
    "            self.notify()# 核心代码 观察者：在数据变化时通知观察者\n",
    "\n",
    "class HexFormatter:\n",
    "    def notify(self, publisher):\n",
    "        print(f'{type(self).__name__}: {publisher.name} has now hex data = {hex(publisher.data)}')\n",
    "\n",
    "class BinaryFormatter:\n",
    "    def notify(self, publisher):\n",
    "        print(f'{type(self).__name__}: {publisher.name} has now bin data = {bin(publisher.data)}')\n",
    "\n",
    "def main():\n",
    "    df = DefaultFormatter('test1')\n",
    "    print(df)\n",
    "\n",
    "    print()\n",
    "    hf = HexFormatter()\n",
    "    df.add(hf)\n",
    "    df.data = 3\n",
    "    print(df)\n",
    "\n",
    "    print()\n",
    "    bf = BinaryFormatter()\n",
    "    df.add(bf)\n",
    "    df.data = 21\n",
    "    print(df)\n",
    "\n",
    "    print()\n",
    "    df.remove(hf)\n",
    "    df.data = 40\n",
    "    print(df)\n",
    "\n",
    "    print()\n",
    "    df.remove(hf)\n",
    "    df.add(bf)\n",
    "\n",
    "    print()\n",
    "    df.data = 'hello'\n",
    "    print(df)\n",
    "\n",
    "    print()\n",
    "    df.data = 15.8\n",
    "    print(df)\n",
    "\n",
    "main()"
   ]
  },
  {
   "cell_type": "code",
   "execution_count": 8,
   "id": "d1bbaf31",
   "metadata": {},
   "outputs": [
    {
     "name": "stdout",
     "output_type": "stream",
     "text": [
      "Error: division by zero\n",
      "Finally\n",
      "------------------\n",
      "No error\n",
      "Finally\n"
     ]
    }
   ],
   "source": [
    "# try后的else是try成功后执行的代码，不是try失败后执行的代码\n",
    "try:\n",
    "    a = 1 / 0\n",
    "except ZeroDivisionError as e:\n",
    "    print('Error:', str(e))\n",
    "else:# 如果没有错误发生\n",
    "    print('No error')\n",
    "finally:\n",
    "    print('Finally')\n",
    "print('------------------')\n",
    "\n",
    "try:\n",
    "    a = 1 / 1\n",
    "except ZeroDivisionError as e:\n",
    "    print('Error:', str(e))\n",
    "else:\n",
    "    print('No error')\n",
    "finally:\n",
    "    print('Finally')"
   ]
  },
  {
   "cell_type": "markdown",
   "id": "43c3a9dfa255f877",
   "metadata": {},
   "source": [
    "# 12 状态模式\n",
    "\n",
    "## 12.2 用例\n",
    "\n",
    "Thomas Jaeger ：\n",
    "“状态设计模式能够在上下文中对无限数量的状态进行完全封装，以提高可维护性和灵活性。”\n",
    "\n",
    "## 12.3 实现"
   ]
  },
  {
   "cell_type": "code",
   "execution_count": 11,
   "id": "662459cd",
   "metadata": {},
   "outputs": [],
   "source": [
    "try:\n",
    "    import state_machine\n",
    "except:\n",
    "    !pip install state-machine"
   ]
  },
  {
   "cell_type": "code",
   "execution_count": 32,
   "id": "3021a867cfa5007e",
   "metadata": {
    "ExecuteTime": {
     "end_time": "2024-05-24T02:58:56.974119Z",
     "start_time": "2024-05-24T02:58:56.921878Z"
    }
   },
   "outputs": [
    {
     "name": "stdout",
     "output_type": "stream",
     "text": [
      "state of process1: created\n",
      "state of process2: created\n",
      "\n",
      "process1 entered waiting mode\n",
      "Error: transition of process2 from created to terminated failed\n",
      "state of process1: waiting\n",
      "state of process2: created\n",
      "\n",
      "process1 is running\n",
      "process2 entered waiting mode\n",
      "state of process1: running\n",
      "state of process2: waiting\n",
      "\n",
      "process1 is blocked\n",
      "Error: transition of process2 from waiting to blocked failed\n",
      "state of process1: blocked\n",
      "state of process2: waiting\n",
      "\n",
      "Error: transition of process1 from blocked to terminated failed\n",
      "Error: transition of process2 from waiting to terminated failed\n",
      "state of process1: blocked\n",
      "state of process2: waiting\n"
     ]
    }
   ],
   "source": [
    "from state_machine import State, Event, acts_as_state_machine, after, before, InvalidStateTransition\n",
    "\n",
    "@acts_as_state_machine # 使用 state_machine 模块创建状态机的第一步\n",
    "class Process: # 每个创建的进程都有自己的状态机。\n",
    "    # 定义状态。在状态图中看到的一对一映射。\n",
    "    created = State(initial=True)# 初始状态\n",
    "    waiting = State()\n",
    "    running = State()\n",
    "    terminated = State()\n",
    "    blocked = State()\n",
    "    swapped_out_waiting = State()\n",
    "    swapped_out_blocked = State()\n",
    "    \n",
    "    # 定义转换。在 state_machine 模块中，转换是 Event 类的一个实例\n",
    "    wait = Event(from_states=(created, \n",
    "                              running, \n",
    "                              blocked, \n",
    "                              swapped_out_waiting), \n",
    "                 to_state=waiting)\n",
    "    run = Event(from_states=waiting, # 核心代码 状态机：定义状态和事件\n",
    "                to_state=running)\n",
    "    terminate = Event(from_states=running, \n",
    "                      to_state=terminated)\n",
    "    block = Event(from_states=(running,\n",
    "                                swapped_out_waiting),\n",
    "                    to_state=blocked)\n",
    "    swap_wait = Event(from_states=waiting, \n",
    "                      to_state=swapped_out_waiting)\n",
    "    swap_block = Event(from_states=blocked, \n",
    "                       to_state=swapped_out_blocked)\n",
    "    \n",
    "    #  定义初始化方法\n",
    "    def __init__(self, name):\n",
    "        self.name = name\n",
    "        \n",
    "    # 定义提供状态的方法\n",
    "    @after('wait')\n",
    "    def wait_info(self):\n",
    "        print(f'{self.name} entered waiting mode')\n",
    "        \n",
    "    @after('run')\n",
    "    def run_info(self):\n",
    "        print(f'{self.name} is running')\n",
    "        \n",
    "    @before('terminate')\n",
    "    def terminate_info(self):\n",
    "        print(f'{self.name} terminated')\n",
    "        \n",
    "    @after('block')\n",
    "    def block_info(self):\n",
    "        print(f'{self.name} is blocked')\n",
    "        \n",
    "    @after('swap_wait')\n",
    "    def swap_wait_info(self):\n",
    "        print(f'{self.name} is swapped out and waiting')\n",
    "        \n",
    "    @after('swap_block')\n",
    "    def swap_block_info(self):\n",
    "        print(f'{self.name} is swapped out and blocked')\n",
    "        \n",
    "def transition(process, event, event_name):\n",
    "    '''如果在尝试执行事件时出错，则输出事件的名称'''\n",
    "    try:\n",
    "        event()\n",
    "    except InvalidStateTransition as err:\n",
    "        print(f'Error: transition of {process.name} from {process.current_state} to {event_name} failed')\n",
    "        \n",
    "def state_info(process):\n",
    "    '''显示进程当前（激活）状态的一些基本信息'''\n",
    "    print(f'state of {process.name}: {process.current_state}')\n",
    "    \n",
    "def main():\n",
    "    RUNNING = 'running'\n",
    "    WAITING = 'waiting'\n",
    "    BLOCKED = 'blocked'\n",
    "    TERMINATED = 'terminated'\n",
    "    \n",
    "    p1, p2 = Process('process1'), Process('process2')\n",
    "    [state_info(p) for p in (p1, p2)]\n",
    "    \n",
    "    print()\n",
    "    transition(p1, p1.wait, WAITING)\n",
    "    transition(p2, p2.terminate, TERMINATED)\n",
    "    [state_info(p) for p in (p1, p2)]\n",
    "    print()\n",
    "    transition(p1, p1.run, RUNNING)\n",
    "    transition(p2, p2.wait, WAITING)\n",
    "    [state_info(p) for p in (p1, p2)]\n",
    "    print()\n",
    "    [transition(p, p.block, BLOCKED) for p in (p1, p2)]\n",
    "    [state_info(p) for p in (p1, p2)]\n",
    "    print()\n",
    "    [transition(p, p.terminate, TERMINATED) for p in (p1, p2)]\n",
    "    [state_info(p) for p in (p1, p2)]\n",
    "    \n",
    "main()"
   ]
  },
  {
   "cell_type": "markdown",
   "id": "74563766",
   "metadata": {},
   "source": [
    "# 13 其他行为型模式\n",
    "\n",
    "## 13.1 解释器模式"
   ]
  }
 ],
 "metadata": {
  "kernelspec": {
   "display_name": "Python 3",
   "language": "python",
   "name": "python3"
  },
  "language_info": {
   "codemirror_mode": {
    "name": "ipython",
    "version": 3
   },
   "file_extension": ".py",
   "mimetype": "text/x-python",
   "name": "python",
   "nbconvert_exporter": "python",
   "pygments_lexer": "ipython3",
   "version": "3.10.13"
  }
 },
 "nbformat": 4,
 "nbformat_minor": 5
}
